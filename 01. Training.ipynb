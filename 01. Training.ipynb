{
 "cells": [
  {
   "cell_type": "code",
   "execution_count": 1,
   "id": "44826bed",
   "metadata": {},
   "outputs": [],
   "source": [
    "import os,sys, glob, natsort\n",
    "import argparse\n",
    "from path import Path\n",
    "from natsort import natsorted\n",
    "from easydict import EasyDict\n",
    "import json\n",
    "import time\n",
    "import random\n",
    "import numpy as np\n",
    "import pandas as pd\n",
    "import matplotlib.pyplot as plt\n",
    "import pydicom\n",
    "from tqdm.auto import tqdm\n",
    "import logging\n",
    "\n",
    "import cv2\n",
    "from scipy import ndimage\n",
    "from PIL import Image\n",
    "import SimpleITK as sitk\n",
    "from skimage.transform import resize\n",
    "\n",
    "import torch\n",
    "import torch.nn as nn\n",
    "import torch.nn.functional as F\n",
    "import torch.optim as optim\n",
    "from torch.utils.data import DataLoader,Dataset\n",
    "\n",
    "import torchvision\n",
    "from torchvision import transforms as T\n",
    "from torchvision.datasets.folder import default_loader\n",
    "\n",
    "import albumentations as A\n",
    "from albumentations.pytorch.transforms import ToTensorV2\n",
    "from sklearn.model_selection import train_test_split\n",
    "\n",
    "import monai\n",
    "from monai.apps import download_and_extract\n",
    "from monai.config import print_config\n",
    "from monai.data import DataLoader, ImageDataset\n",
    "from monai.transforms import (\n",
    "    EnsureChannelFirst,\n",
    "    Compose,\n",
    "    RandRotate90,\n",
    "    Resize,\n",
    "    ScaleIntensity,\n",
    ")\n",
    "\n",
    "import warnings\n",
    "warnings.filterwarnings(action='ignore')"
   ]
  },
  {
   "cell_type": "code",
   "execution_count": 2,
   "id": "42eb096f",
   "metadata": {},
   "outputs": [
    {
     "name": "stdout",
     "output_type": "stream",
     "text": [
      "MONAI version: 1.2.0\n",
      "Numpy version: 1.25.2\n",
      "Pytorch version: 2.0.1+cu117\n",
      "MONAI flags: HAS_EXT = False, USE_COMPILED = False, USE_META_DICT = False\n",
      "MONAI rev id: c33f1ba588ee00229a309000e888f9817b4f1934\n",
      "MONAI __file__: /home/sangheon/anaconda3/envs/medifusion/lib/python3.9/site-packages/monai/__init__.py\n",
      "\n",
      "Optional dependencies:\n",
      "Pytorch Ignite version: NOT INSTALLED or UNKNOWN VERSION.\n",
      "ITK version: NOT INSTALLED or UNKNOWN VERSION.\n",
      "Nibabel version: 5.1.0\n",
      "scikit-image version: 0.21.0\n",
      "Pillow version: 10.2.0\n",
      "Tensorboard version: 2.17.0\n",
      "gdown version: NOT INSTALLED or UNKNOWN VERSION.\n",
      "TorchVision version: 0.15.2+cu117\n",
      "tqdm version: 4.66.1\n",
      "lmdb version: NOT INSTALLED or UNKNOWN VERSION.\n",
      "psutil version: 5.9.5\n",
      "pandas version: 2.0.3\n",
      "einops version: 0.6.1\n",
      "transformers version: NOT INSTALLED or UNKNOWN VERSION.\n",
      "mlflow version: NOT INSTALLED or UNKNOWN VERSION.\n",
      "pynrrd version: NOT INSTALLED or UNKNOWN VERSION.\n",
      "\n",
      "For details about installing the optional dependencies, please visit:\n",
      "    https://docs.monai.io/en/latest/installation.html#installing-the-recommended-dependencies\n",
      "\n"
     ]
    }
   ],
   "source": [
    "os.environ[\"CUDA_VISIBLE_DEVICES\"] = \"0\"\n",
    "\n",
    "pin_memory = torch.cuda.is_available()\n",
    "device = torch.device(\"cuda\" if torch.cuda.is_available() else \"cpu\")\n",
    "\n",
    "logging.basicConfig(stream=sys.stdout, level=logging.INFO)\n",
    "print_config()"
   ]
  },
  {
   "cell_type": "code",
   "execution_count": 3,
   "id": "d3e00343",
   "metadata": {},
   "outputs": [],
   "source": [
    "class EarlyStopping:\n",
    "    def __init__(self, patience=7, verbose=False, delta=0, path='checkpoint.pt', trace_func=print):\n",
    "        self.patience = patience\n",
    "        self.verbose = verbose\n",
    "        self.counter = 0\n",
    "        self.best_score = None\n",
    "        self.early_stop = False\n",
    "        self.val_loss_min = np.Inf\n",
    "        self.delta = delta\n",
    "        self.path = path\n",
    "        self.trace_func = trace_func\n",
    "    def __call__(self, val_loss, model):\n",
    "\n",
    "        score = -val_loss\n",
    "\n",
    "        if self.best_score is None:\n",
    "            self.best_score = score\n",
    "            self.save_checkpoint(val_loss, model)\n",
    "        elif score < self.best_score + self.delta:\n",
    "            self.counter += 1\n",
    "            self.trace_func(f'EarlyStopping counter: {self.counter} out of {self.patience}')\n",
    "            if self.counter >= self.patience:\n",
    "                self.early_stop = True\n",
    "        else:\n",
    "            self.best_score = score\n",
    "            self.save_checkpoint(val_loss, model)\n",
    "            self.counter = 0\n",
    "\n",
    "    def save_checkpoint(self, val_loss, model):\n",
    "        '''Saves model when validation loss decrease.'''\n",
    "        if self.verbose:\n",
    "            self.trace_func(f'Validation loss decreased ({self.val_loss_min:.6f} --> {val_loss:.6f}).  Saving model ...')\n",
    "        torch.save(model.state_dict(), self.path)\n",
    "        self.val_loss_min = val_loss"
   ]
  },
  {
   "cell_type": "code",
   "execution_count": 4,
   "id": "fb032cf1-e27e-4ca7-a424-b3be400069fd",
   "metadata": {},
   "outputs": [
    {
     "name": "stdout",
     "output_type": "stream",
     "text": [
      "279\n"
     ]
    }
   ],
   "source": [
    "base_dir = '../Data'\n",
    "folder_list = natsorted(os.listdir(base_dir))\n",
    "\n",
    "print(len(folder_list))"
   ]
  },
  {
   "cell_type": "code",
   "execution_count": 5,
   "id": "4fcf6357-27e9-490a-9f5e-d120c14abee3",
   "metadata": {},
   "outputs": [
    {
     "data": {
      "image/png": "[encoded data removed]",
      "text/plain": [
       "<Figure size 300x300 with 1 Axes>"
      ]
     },
     "metadata": {},
     "output_type": "display_data"
    },
    {
     "name": "stdout",
     "output_type": "stream",
     "text": [
      "(50, 50, 3) 99 248 uint8\n"
     ]
    }
   ],
   "source": [
    "idx = 10\n",
    "\n",
    "sam_img_list = natsorted(glob.glob(base_dir + '/' + folder_list[idx] + '/0/*.png'))\n",
    "sam_img_idx = sitk.ReadImage(sam_img_list[idx])\n",
    "sam_img_idx = sitk.GetArrayFromImage(sam_img_idx)\n",
    "\n",
    "plt.figure(figsize=(3,3))\n",
    "plt.imshow(sam_img_idx)\n",
    "plt.show()\n",
    "print(sam_img_idx.shape, sam_img_idx.min(), sam_img_idx.max(), sam_img_idx.dtype)"
   ]
  },
  {
   "cell_type": "code",
   "execution_count": 6,
   "id": "34c3bd27-88e3-4d96-8dde-d1f050e0dc7c",
   "metadata": {
    "scrolled": true
   },
   "outputs": [
    {
     "data": {
      "application/vnd.jupyter.widget-view+json": {
       "model_id": "aa09a19465ea4c289b9b6bad668764e1",
       "version_major": 2,
       "version_minor": 0
      },
      "text/plain": [
       "  0%|          | 0/279 [00:00<?, ?it/s]"
      ]
     },
     "metadata": {},
     "output_type": "display_data"
    },
    {
     "data": {
      "application/vnd.jupyter.widget-view+json": {
       "model_id": "ccf5fd8825914e978cbdd10dd64ebfd0",
       "version_major": 2,
       "version_minor": 0
      },
      "text/plain": [
       "  0%|          | 0/279 [00:00<?, ?it/s]"
      ]
     },
     "metadata": {},
     "output_type": "display_data"
    },
    {
     "name": "stdout",
     "output_type": "stream",
     "text": [
      "(196219, 50, 50, 3) 0 255 uint8\n",
      "(78768, 50, 50, 3) 0 255 uint8\n"
     ]
    }
   ],
   "source": [
    "x_normal = []\n",
    "x_cancer = []\n",
    "\n",
    "for idx in tqdm(range(len(folder_list))):\n",
    "    sam_normal_list = natsorted(glob.glob(base_dir + '/' + folder_list[idx] + '/0/*.png'))\n",
    "    for item in sam_normal_list:\n",
    "        img = sitk.ReadImage(item)\n",
    "        img = sitk.GetArrayFromImage(img)\n",
    "        if img.shape != (50,50,3):\n",
    "            continue\n",
    "        x_normal.append(img)\n",
    "\n",
    "for idx in tqdm(range(len(folder_list))):\n",
    "    sam_cancer_list = natsorted(glob.glob(base_dir + '/' + folder_list[idx] + '/1/*.png'))\n",
    "    for item in sam_cancer_list:\n",
    "        img = sitk.ReadImage(item)\n",
    "        img = sitk.GetArrayFromImage(img)\n",
    "        if img.shape != (50,50,3):\n",
    "            continue\n",
    "        x_cancer.append(img)\n",
    "\n",
    "x_normal = np.array(x_normal)\n",
    "x_cancer = np.array(x_cancer)\n",
    "\n",
    "print(x_normal.shape, x_normal.min(), x_normal.max(), x_normal.dtype)\n",
    "print(x_cancer.shape, x_cancer.min(), x_cancer.max(), x_cancer.dtype)"
   ]
  },
  {
   "cell_type": "code",
   "execution_count": 7,
   "id": "6a1b947f-fbf4-47e9-8942-a051c3ed37b6",
   "metadata": {},
   "outputs": [
    {
     "name": "stdout",
     "output_type": "stream",
     "text": [
      "(196219, 1) 1 1 uint8\n",
      "(78768, 1) 0 0 uint8\n"
     ]
    }
   ],
   "source": [
    "y_normal = np.ones([len(x_normal),1], dtype=np.uint8)\n",
    "y_cancer = np.zeros([len(x_cancer),1], dtype=np.uint8)\n",
    "\n",
    "print(y_normal.shape, y_normal.min(), y_normal.max(), y_normal.dtype)\n",
    "print(y_cancer.shape, y_cancer.min(), y_cancer.max(), y_cancer.dtype)"
   ]
  },
  {
   "cell_type": "code",
   "execution_count": 8,
   "id": "473f9574-3e8a-4518-8ea6-08df80d76dca",
   "metadata": {},
   "outputs": [
    {
     "name": "stdout",
     "output_type": "stream",
     "text": [
      "(164992, 50, 50, 3) 0 255 uint8\n",
      "(164992, 1) 0 1 uint8\n",
      "(54997, 50, 50, 3) 0 255 uint8\n",
      "(54997, 1) 0 1 uint8\n",
      "(54998, 50, 50, 3) 0 255 uint8\n",
      "(54998, 1) 0 1 uint8\n"
     ]
    }
   ],
   "source": [
    "X_train_normal = x_normal[:int(np.round(len(x_normal)*0.6))]\n",
    "X_val_normal = x_normal[int(np.round(len(x_normal)*0.6)):int(np.round(len(x_normal)*0.8))]\n",
    "X_test_normal = x_normal[int(np.round(len(x_normal)*0.8)):]\n",
    "\n",
    "X_train_cancer = x_cancer[:int(np.round(len(x_cancer)*0.6))]\n",
    "X_val_cancer = x_cancer[int(np.round(len(x_cancer)*0.6)):int(np.round(len(x_cancer)*0.8))]\n",
    "X_test_cancer = x_cancer[int(np.round(len(x_cancer)*0.8)):]\n",
    "\n",
    "X_train = np.concatenate([X_train_normal, X_train_cancer], axis=0)\n",
    "X_val = np.concatenate([X_val_normal, X_val_cancer], axis=0)\n",
    "X_test = np.concatenate([X_test_normal, X_test_cancer], axis=0)\n",
    "\n",
    "Y_train_normal = y_normal[:int(np.round(len(x_normal)*0.6))]\n",
    "Y_val_normal = y_normal[int(np.round(len(x_normal)*0.6)):int(np.round(len(x_normal)*0.8))]\n",
    "Y_test_normal = y_normal[int(np.round(len(x_normal)*0.8)):]\n",
    "\n",
    "Y_train_cancer = y_cancer[:int(np.round(len(x_cancer)*0.6))]\n",
    "Y_val_cancer = y_cancer[int(np.round(len(x_cancer)*0.6)):int(np.round(len(x_cancer)*0.8))]\n",
    "Y_test_cancer = y_cancer[int(np.round(len(x_cancer)*0.8)):]\n",
    "\n",
    "Y_train = np.concatenate([Y_train_normal, Y_train_cancer], axis=0)\n",
    "Y_val = np.concatenate([Y_val_normal, Y_val_cancer], axis=0)\n",
    "Y_test = np.concatenate([Y_test_normal, Y_test_cancer], axis=0)\n",
    "\n",
    "print(X_train.shape, X_train.min(), X_train.max(), X_train.dtype)\n",
    "print(Y_train.shape, Y_train.min(), Y_train.max(), Y_train.dtype)\n",
    "print(X_val.shape, X_val.min(), X_val.max(), X_val.dtype)\n",
    "print(Y_val.shape, Y_val.min(), Y_val.max(), Y_val.dtype)\n",
    "print(X_test.shape, X_test.min(), X_test.max(), X_test.dtype)\n",
    "print(Y_test.shape, Y_test.min(), Y_test.max(), Y_test.dtype)"
   ]
  },
  {
   "cell_type": "code",
   "execution_count": 10,
   "id": "f13a482c-b111-401d-9458-4873845ff887",
   "metadata": {},
   "outputs": [],
   "source": [
    "del x_normal, x_cancer\n",
    "del X_train_normal, X_val_normal, X_test_normal\n",
    "del X_train_cancer, X_val_cancer, X_test_cancer\n",
    "del Y_train_normal, Y_val_normal, Y_test_normal\n",
    "del Y_train_cancer, Y_val_cancer, Y_test_cancer"
   ]
  },
  {
   "cell_type": "code",
   "execution_count": 11,
   "id": "2ffc3848",
   "metadata": {},
   "outputs": [],
   "source": [
    "h_params=EasyDict()\n",
    "h_params.gpu_num=0\n",
    "h_params.seed=42\n",
    "\n",
    "h_params.total_epoch=300\n",
    "h_params.batch_size=256\n",
    "h_params.lr=1e-3\n",
    "h_params.lr_schedule_patience=5\n",
    "h_params.earlystop_patience=25\n",
    "\n",
    "h_params.model_name = \"./output/model.pth\"\n",
    "h_params.model_save_base = \"./output/train_log\"\n",
    "\n",
    "now = time.localtime(time.time())\n",
    "h_params.trial_ = f\"{now.tm_year}{now.tm_mon:02d}{now.tm_mday:02d}_{now.tm_hour:02d}{now.tm_min:02d}\"\n",
    "h_params.trial_path =os.path.join(h_params.model_save_base,h_params.trial_)\n",
    "h_params.model_save_path = os.path.join(h_params.trial_path,h_params.model_name)"
   ]
  },
  {
   "cell_type": "code",
   "execution_count": 12,
   "id": "a03590d5",
   "metadata": {},
   "outputs": [],
   "source": [
    "os.makedirs(h_params.trial_path, exist_ok=True)\n",
    "device = torch.device(f\"cuda:{h_params.gpu_num}\" if torch.cuda.is_available() else 'cpu')"
   ]
  },
  {
   "cell_type": "code",
   "execution_count": null,
   "id": "b08b2131",
   "metadata": {},
   "outputs": [],
   "source": [
    "save_config_path = os.path.join(h_params.trial_path,'config.json')\n",
    "with open(save_config_path,'w') as f:\n",
    "    json.dump(h_params, f)"
   ]
  },
  {
   "cell_type": "code",
   "execution_count": 13,
   "id": "d572596c",
   "metadata": {},
   "outputs": [],
   "source": [
    "class custom_dataset(Dataset):\n",
    "    def __init__(self, img, label, transform=None):\n",
    "        self.img = img\n",
    "        self.label = label\n",
    "        self.transform = transform\n",
    "\n",
    "    def __getitem__(self,idx):\n",
    "        sample = {}\n",
    "        \n",
    "        sample['image'] = self.img[idx,...].copy()\n",
    "        sample['image'] = sample['image'].astype(np.float32)\n",
    "        sample['image'] /= 255.0\n",
    "        \n",
    "        sample['label'] = self.label[idx,...].copy()\n",
    "        sample['label'] = sample['label'].astype(np.uint8)\n",
    "        \n",
    "        if transform is not None:\n",
    "            transformed = self.transform(image=sample['image'])\n",
    "            sample['image'] = transformed['image']\n",
    "        \n",
    "        return sample\n",
    "        \n",
    "    def __len__(self):\n",
    "        return len(self.img)"
   ]
  },
  {
   "cell_type": "code",
   "execution_count": 14,
   "id": "57ba653a",
   "metadata": {},
   "outputs": [],
   "source": [
    "transform = A.Compose([ToTensorV2()], p=1)"
   ]
  },
  {
   "cell_type": "code",
   "execution_count": 15,
   "id": "1ff6d5bf",
   "metadata": {},
   "outputs": [],
   "source": [
    "train_dataset = custom_dataset(img=X_train,\n",
    "                               label=Y_train,\n",
    "                               transform=transform)\n",
    "\n",
    "val_dataset = custom_dataset(img=X_val,\n",
    "                             label=Y_val,\n",
    "                             transform=transform)\n",
    "\n",
    "test_dataset = custom_dataset(img=X_test,\n",
    "                              label=Y_test,\n",
    "                              transform=transform)\n",
    "\n",
    "train_dataloader = DataLoader(dataset=train_dataset,\n",
    "                              batch_size=h_params.batch_size,\n",
    "                              shuffle=True)\n",
    "\n",
    "val_dataloader = DataLoader(dataset=val_dataset,\n",
    "                            batch_size=h_params.batch_size,\n",
    "                            shuffle=False)\n",
    "\n",
    "test_dataloader = DataLoader(dataset=test_dataset,\n",
    "                             batch_size=h_params.batch_size,\n",
    "                             shuffle=False)"
   ]
  },
  {
   "cell_type": "code",
   "execution_count": null,
   "id": "8ed498db-f624-49dd-9314-bbf1244318eb",
   "metadata": {
    "scrolled": true
   },
   "outputs": [],
   "source": [
    "sam_img = test_dataset[100]['image']\n",
    "sam_label = test_dataset[100]['label']\n",
    "\n",
    "plt.figure(figsize=(3,3))\n",
    "plt.imshow(sam_img.permute(1,2,0))\n",
    "plt.show()\n",
    "\n",
    "print(sam_img.shape)\n",
    "print(sam_label)"
   ]
  },
  {
   "cell_type": "code",
   "execution_count": 16,
   "id": "664131c3",
   "metadata": {
    "scrolled": true
   },
   "outputs": [],
   "source": [
    "model = monai.networks.nets.DenseNet121(spatial_dims=2, in_channels=3, out_channels=1).to(device)\n",
    "\n",
    "model = model.to(device)"
   ]
  },
  {
   "cell_type": "code",
   "execution_count": null,
   "id": "faaeb8bf",
   "metadata": {},
   "outputs": [],
   "source": [
    "optim = torch.optim.Adam(params=model.parameters(),lr = h_params.lr)\n",
    "\n",
    "scheduler = torch.optim.lr_scheduler.ReduceLROnPlateau(optim,patience=h_params.lr_schedule_patience)\n",
    "\n",
    "criterion_clasif = torch.nn.BCEWithLogitsLoss()\n",
    "\n",
    "monitor = EarlyStopping(patience=h_params.earlystop_patience,\n",
    "                        verbose=True,\n",
    "                        delta=0,\n",
    "                        path=h_params.model_name,\n",
    "                        trace_func=print)"
   ]
  },
  {
   "cell_type": "code",
   "execution_count": null,
   "id": "734668ca",
   "metadata": {
    "scrolled": true
   },
   "outputs": [],
   "source": [
    "metric_logger = {k:[] for k in ['train_loss','val_loss','lr']}\n",
    "\n",
    "total_train_num = len(train_dataloader.sampler)\n",
    "total_val_num = len(val_dataloader.sampler)\n",
    "\n",
    "for epoch in range(h_params.total_epoch):\n",
    "    \n",
    "    for param in optim.param_groups:\n",
    "        lr_stauts = param['lr']\n",
    "    metric_logger['lr'].append(lr_stauts)\n",
    "\n",
    "    epoch_loss = {k:0 for k in metric_logger if k not in ['lr']}\n",
    "    \n",
    "    model.train()\n",
    "    \n",
    "    for batch_idx, data in enumerate(tqdm(train_dataloader,total=len(train_dataloader),position=0,desc='Train',colour='blue')):\n",
    "        batch_num = len(data['image'])\n",
    "        \n",
    "        image = data['image'].to(device, dtype=torch.float)\n",
    "        target = data['label'].to(device, dtype=torch.float)\n",
    "        \n",
    "        optim.zero_grad()\n",
    "\n",
    "        pred = model(image)\n",
    "        \n",
    "        loss = criterion_clasif(pred, target)\n",
    "        \n",
    "        loss.backward()\n",
    "        optim.step()\n",
    "        \n",
    "        epoch_loss['train_loss'] += loss.item()*batch_num\n",
    "        \n",
    "    model.eval()\n",
    "    with torch.no_grad():\n",
    "        for data in tqdm(val_dataloader,total=len(val_dataloader),position=0,desc='Val',colour='green'):\n",
    "    \n",
    "            batch_num = len(data['image'])\n",
    "        \n",
    "            image = data['image'].to(device, dtype=torch.float)\n",
    "            target = data['label'].to(device, dtype=torch.float)\n",
    "\n",
    "            pred = model(image)\n",
    "            \n",
    "            loss = criterion_clasif(pred, target)\n",
    "\n",
    "            epoch_loss['val_loss'] += loss.item()*batch_num\n",
    "\n",
    "    epoch_loss = {k:(v/total_train_num if 'train' in k else v/total_val_num) for k,v in epoch_loss.items()}\n",
    "\n",
    "    monitor(epoch_loss['val_loss'], model)\n",
    "    if monitor.early_stop:\n",
    "        print(f\"Train early stopped, Minimum validation loss: {monitor.val_loss_min}\")\n",
    "        break\n",
    "    \n",
    "    scheduler.step(epoch_loss['val_loss'])\n",
    "\n",
    "    print(f\"Epoch {epoch+1:03d}/{h_params.total_epoch:03d}\\tLR: {lr_stauts:.0e}\\n\\\n",
    "          Train_loss: {epoch_loss['train_loss']:.7f}\\n\\\n",
    "          Val_loss: {epoch_loss['val_loss']:.7f}\")\n",
    "\n",
    "    with open(os.path.join(h_params.trial_path,'metric_logger.json'),'w') as f:\n",
    "        json.dump(metric_logger, f)"
   ]
  },
  {
   "cell_type": "code",
   "execution_count": null,
   "id": "af0a39c2",
   "metadata": {},
   "outputs": [],
   "source": []
  },
  {
   "cell_type": "code",
   "execution_count": null,
   "id": "f953a7af",
   "metadata": {},
   "outputs": [],
   "source": []
  }
 ],
 "metadata": {
  "kernelspec": {
   "display_name": "Python 3 (ipykernel)",
   "language": "python",
   "name": "python3"
  },
  "language_info": {
   "codemirror_mode": {
    "name": "ipython",
    "version": 3
   },
   "file_extension": ".py",
   "mimetype": "text/x-python",
   "name": "python",
   "nbconvert_exporter": "python",
   "pygments_lexer": "ipython3",
   "version": "3.9.20"
  }
 },
 "nbformat": 4,
 "nbformat_minor": 5
}
