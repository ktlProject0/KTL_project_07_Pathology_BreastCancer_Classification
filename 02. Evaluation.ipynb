{
 "cells": [
  {
   "cell_type": "code",
   "execution_count": 1,
   "id": "44826bed",
   "metadata": {},
   "outputs": [],
   "source": [
    "import os,sys, glob, natsort\n",
    "import argparse\n",
    "from path import Path\n",
    "from natsort import natsorted\n",
    "from easydict import EasyDict\n",
    "import json\n",
    "import time\n",
    "import random\n",
    "import numpy as np\n",
    "import pandas as pd\n",
    "import matplotlib.pyplot as plt\n",
    "import pydicom\n",
    "from tqdm.auto import tqdm\n",
    "import logging\n",
    "\n",
    "import cv2\n",
    "from scipy import ndimage\n",
    "from PIL import Image\n",
    "import SimpleITK as sitk\n",
    "from skimage.transform import resize\n",
    "\n",
    "import torch\n",
    "import torch.nn as nn\n",
    "import torch.nn.functional as F\n",
    "import torch.optim as optim\n",
    "from torch.utils.data import DataLoader,Dataset\n",
    "\n",
    "import torchvision\n",
    "from torchvision import transforms as T\n",
    "from torchvision.datasets.folder import default_loader\n",
    "\n",
    "import albumentations as A\n",
    "from albumentations.pytorch.transforms import ToTensorV2\n",
    "from sklearn.model_selection import train_test_split\n",
    "\n",
    "import monai\n",
    "from monai.apps import download_and_extract\n",
    "from monai.config import print_config\n",
    "from monai.data import DataLoader, ImageDataset\n",
    "from monai.transforms import (\n",
    "    EnsureChannelFirst,\n",
    "    Compose,\n",
    "    RandRotate90,\n",
    "    Resize,\n",
    "    ScaleIntensity,\n",
    ")\n",
    "\n",
    "import warnings\n",
    "warnings.filterwarnings(action='ignore')"
   ]
  },
  {
   "cell_type": "code",
   "execution_count": 2,
   "id": "42eb096f",
   "metadata": {},
   "outputs": [
    {
     "name": "stdout",
     "output_type": "stream",
     "text": [
      "MONAI version: 1.2.0\n",
      "Numpy version: 1.25.2\n",
      "Pytorch version: 2.0.1+cu117\n",
      "MONAI flags: HAS_EXT = False, USE_COMPILED = False, USE_META_DICT = False\n",
      "MONAI rev id: c33f1ba588ee00229a309000e888f9817b4f1934\n",
      "MONAI __file__: /home/pwrai/userarea/KTL_project_07_Pathology_BreastCancer_Classification/Code/monai/__init__.py\n",
      "\n",
      "Optional dependencies:\n",
      "Pytorch Ignite version: 0.4.11\n",
      "ITK version: 5.4.0\n",
      "Nibabel version: 5.3.2\n",
      "scikit-image version: 0.24.0\n",
      "Pillow version: 11.0.0\n",
      "Tensorboard version: 2.18.0\n",
      "gdown version: 5.2.0\n",
      "TorchVision version: 0.15.2+cu117\n",
      "tqdm version: 4.67.1\n",
      "lmdb version: 1.5.1\n",
      "psutil version: 6.1.0\n",
      "pandas version: 2.2.3\n",
      "einops version: 0.8.0\n",
      "transformers version: 4.21.3\n",
      "mlflow version: 2.18.0\n",
      "pynrrd version: 1.1.1\n",
      "\n",
      "For details about installing the optional dependencies, please visit:\n",
      "    https://docs.monai.io/en/latest/installation.html#installing-the-recommended-dependencies\n",
      "\n"
     ]
    }
   ],
   "source": [
    "os.environ[\"CUDA_VISIBLE_DEVICES\"] = \"0\"\n",
    "\n",
    "pin_memory = torch.cuda.is_available()\n",
    "device = torch.device(\"cuda\" if torch.cuda.is_available() else \"cpu\")\n",
    "\n",
    "logging.basicConfig(stream=sys.stdout, level=logging.INFO)\n",
    "print_config()"
   ]
  },
  {
   "cell_type": "code",
   "execution_count": 3,
   "id": "fb032cf1-e27e-4ca7-a424-b3be400069fd",
   "metadata": {},
   "outputs": [
    {
     "name": "stdout",
     "output_type": "stream",
     "text": [
      "279\n"
     ]
    }
   ],
   "source": [
    "base_dir = '../Data'\n",
    "folder_list = natsorted(os.listdir(base_dir))\n",
    "\n",
    "print(len(folder_list))"
   ]
  },
  {
   "cell_type": "code",
   "execution_count": null,
   "id": "34c3bd27-88e3-4d96-8dde-d1f050e0dc7c",
   "metadata": {
    "scrolled": true
   },
   "outputs": [
    {
     "data": {
      "application/vnd.jupyter.widget-view+json": {
       "model_id": "2b79a1f7b7974ca5bde22813bf7bceb5",
       "version_major": 2,
       "version_minor": 0
      },
      "text/plain": [
       "  0%|          | 0/279 [00:00<?, ?it/s]"
      ]
     },
     "metadata": {},
     "output_type": "display_data"
    },
    {
     "data": {
      "application/vnd.jupyter.widget-view+json": {
       "model_id": "9df8e1d1d7cf48a19eb3af190b8daadf",
       "version_major": 2,
       "version_minor": 0
      },
      "text/plain": [
       "  0%|          | 0/279 [00:00<?, ?it/s]"
      ]
     },
     "metadata": {},
     "output_type": "display_data"
    }
   ],
   "source": [
    "x_normal = []\n",
    "x_cancer = []\n",
    "\n",
    "for idx in tqdm(range(len(folder_list))):\n",
    "    sam_normal_list = natsorted(glob.glob(base_dir + '/' + folder_list[idx] + '/0/*.png'))\n",
    "    for item in sam_normal_list:\n",
    "        img = sitk.ReadImage(item)\n",
    "        img = sitk.GetArrayFromImage(img)\n",
    "        if img.shape != (50,50,3):\n",
    "            continue\n",
    "        x_normal.append(img)\n",
    "\n",
    "for idx in tqdm(range(len(folder_list))):\n",
    "    sam_cancer_list = natsorted(glob.glob(base_dir + '/' + folder_list[idx] + '/1/*.png'))\n",
    "    for item in sam_cancer_list:\n",
    "        img = sitk.ReadImage(item)\n",
    "        img = sitk.GetArrayFromImage(img)\n",
    "        if img.shape != (50,50,3):\n",
    "            continue\n",
    "        x_cancer.append(img)\n",
    "\n",
    "x_normal = np.array(x_normal)\n",
    "x_cancer = np.array(x_cancer)\n",
    "\n",
    "print(x_normal.shape, x_normal.min(), x_normal.max(), x_normal.dtype)\n",
    "print(x_cancer.shape, x_cancer.min(), x_cancer.max(), x_cancer.dtype)"
   ]
  },
  {
   "cell_type": "code",
   "execution_count": null,
   "id": "6a1b947f-fbf4-47e9-8942-a051c3ed37b6",
   "metadata": {},
   "outputs": [],
   "source": [
    "y_normal = np.ones([len(x_normal),1], dtype=np.uint8)\n",
    "y_cancer = np.zeros([len(x_cancer),1], dtype=np.uint8)\n",
    "\n",
    "print(y_normal.shape, y_normal.min(), y_normal.max(), y_normal.dtype)\n",
    "print(y_cancer.shape, y_cancer.min(), y_cancer.max(), y_cancer.dtype)"
   ]
  },
  {
   "cell_type": "code",
   "execution_count": null,
   "id": "473f9574-3e8a-4518-8ea6-08df80d76dca",
   "metadata": {},
   "outputs": [],
   "source": [
    "X_train_normal = x_normal[:int(np.round(len(x_normal)*0.6))]\n",
    "X_val_normal = x_normal[int(np.round(len(x_normal)*0.6)):int(np.round(len(x_normal)*0.8))]\n",
    "X_test_normal = x_normal[int(np.round(len(x_normal)*0.8)):]\n",
    "\n",
    "X_train_cancer = x_cancer[:int(np.round(len(x_cancer)*0.6))]\n",
    "X_val_cancer = x_cancer[int(np.round(len(x_cancer)*0.6)):int(np.round(len(x_cancer)*0.8))]\n",
    "X_test_cancer = x_cancer[int(np.round(len(x_cancer)*0.8)):]\n",
    "\n",
    "X_train = np.concatenate([X_train_normal, X_train_cancer], axis=0)\n",
    "X_val = np.concatenate([X_val_normal, X_val_cancer], axis=0)\n",
    "X_test = np.concatenate([X_test_normal, X_test_cancer], axis=0)\n",
    "\n",
    "Y_train_normal = y_normal[:int(np.round(len(x_normal)*0.6))]\n",
    "Y_val_normal = y_normal[int(np.round(len(x_normal)*0.6)):int(np.round(len(x_normal)*0.8))]\n",
    "Y_test_normal = y_normal[int(np.round(len(x_normal)*0.8)):]\n",
    "\n",
    "Y_train_cancer = y_cancer[:int(np.round(len(x_cancer)*0.6))]\n",
    "Y_val_cancer = y_cancer[int(np.round(len(x_cancer)*0.6)):int(np.round(len(x_cancer)*0.8))]\n",
    "Y_test_cancer = y_cancer[int(np.round(len(x_cancer)*0.8)):]\n",
    "\n",
    "Y_train = np.concatenate([Y_train_normal, Y_train_cancer], axis=0)\n",
    "Y_val = np.concatenate([Y_val_normal, Y_val_cancer], axis=0)\n",
    "Y_test = np.concatenate([Y_test_normal, Y_test_cancer], axis=0)\n",
    "\n",
    "print(X_train.shape, X_train.min(), X_train.max(), X_train.dtype)\n",
    "print(Y_train.shape, Y_train.min(), Y_train.max(), Y_train.dtype)\n",
    "print(X_val.shape, X_val.min(), X_val.max(), X_val.dtype)\n",
    "print(Y_val.shape, Y_val.min(), Y_val.max(), Y_val.dtype)\n",
    "print(X_test.shape, X_test.min(), X_test.max(), X_test.dtype)\n",
    "print(Y_test.shape, Y_test.min(), Y_test.max(), Y_test.dtype)"
   ]
  },
  {
   "cell_type": "code",
   "execution_count": null,
   "id": "f13a482c-b111-401d-9458-4873845ff887",
   "metadata": {},
   "outputs": [],
   "source": [
    "del x_normal, x_cancer\n",
    "del X_train_normal, X_val_normal, X_test_normal\n",
    "del X_train_cancer, X_val_cancer, X_test_cancer\n",
    "del Y_train_normal, Y_val_normal, Y_test_normal\n",
    "del Y_train_cancer, Y_val_cancer, Y_test_cancer\n",
    "\n",
    "del X_train, Y_train, X_val, Y_val"
   ]
  },
  {
   "cell_type": "code",
   "execution_count": null,
   "id": "2ffc3848",
   "metadata": {},
   "outputs": [],
   "source": [
    "h_params=EasyDict()\n",
    "h_params.gpu_num=0\n",
    "h_params.seed=42\n",
    "h_params.batch_size=256\n",
    "h_params.model_name = \"./output/model_final.pth\"\n",
    "\n",
    "device = torch.device(f\"cuda:{h_params.gpu_num}\" if torch.cuda.is_available() else 'cpu')"
   ]
  },
  {
   "cell_type": "code",
   "execution_count": null,
   "id": "d572596c",
   "metadata": {},
   "outputs": [],
   "source": [
    "class custom_dataset(Dataset):\n",
    "    def __init__(self, img, label, transform=None):\n",
    "        self.img = img\n",
    "        self.label = label\n",
    "        self.transform = transform\n",
    "\n",
    "    def __getitem__(self,idx):\n",
    "        sample = {}\n",
    "        \n",
    "        sample['image'] = self.img[idx,...].copy()\n",
    "        sample['image'] = sample['image'].astype(np.float32)\n",
    "        sample['image'] /= 255.0\n",
    "        \n",
    "        sample['label'] = self.label[idx,...].copy()\n",
    "        sample['label'] = sample['label'].astype(np.uint8)\n",
    "        \n",
    "        if transform is not None:\n",
    "            transformed = self.transform(image=sample['image'])\n",
    "            sample['image'] = transformed['image']\n",
    "        \n",
    "        return sample\n",
    "        \n",
    "    def __len__(self):\n",
    "        return len(self.img)"
   ]
  },
  {
   "cell_type": "code",
   "execution_count": null,
   "id": "57ba653a",
   "metadata": {},
   "outputs": [],
   "source": [
    "transform = A.Compose([ToTensorV2()], p=1)"
   ]
  },
  {
   "cell_type": "code",
   "execution_count": null,
   "id": "1ff6d5bf",
   "metadata": {},
   "outputs": [],
   "source": [
    "test_dataset = custom_dataset(img=X_test,\n",
    "                              label=Y_test,\n",
    "                              transform=transform)\n",
    "\n",
    "test_dataloader = DataLoader(dataset=test_dataset,\n",
    "                             batch_size=h_params.batch_size,\n",
    "                             shuffle=False)"
   ]
  },
  {
   "cell_type": "code",
   "execution_count": null,
   "id": "664131c3",
   "metadata": {
    "scrolled": true
   },
   "outputs": [],
   "source": [
    "model = monai.networks.nets.DenseNet121(spatial_dims=2, in_channels=3, out_channels=1).to(device)\n",
    "\n",
    "model = model.to(device)"
   ]
  },
  {
   "cell_type": "code",
   "execution_count": null,
   "id": "ca048886",
   "metadata": {},
   "outputs": [],
   "source": [
    "print(image.shape, target.shape, pred.shape)"
   ]
  },
  {
   "cell_type": "code",
   "execution_count": null,
   "id": "c6aeb2b6",
   "metadata": {},
   "outputs": [],
   "source": [
    "check_point_path = h_params.model_name\n",
    "check_point = torch.load(check_point_path)\n",
    "model.load_state_dict(check_point)"
   ]
  },
  {
   "cell_type": "code",
   "execution_count": null,
   "id": "70d18d4c",
   "metadata": {
    "scrolled": true
   },
   "outputs": [],
   "source": [
    "x_test = []\n",
    "y_test = []\n",
    "pred_test = []\n",
    "\n",
    "idx = 0\n",
    "\n",
    "model.eval()\n",
    "with torch.no_grad():\n",
    "    for data in tqdm(test_dataloader,total=len(test_dataloader),position=0,desc='Test',colour='green'):\n",
    "        \n",
    "        image = data['image'].to(device, dtype=torch.float)\n",
    "        target = data['label'].to(device, dtype=torch.float)\n",
    "        \n",
    "        y_pred = model(image).sigmoid()\n",
    "        \n",
    "        if idx == 0:\n",
    "            print('Image shape:',image.shape, image.min(), image.max(), image.dtype)\n",
    "            print('Target shape:',target.shape, target.min(), target.max(), target.dtype)\n",
    "            print('Pred shape:',y_pred.shape, y_pred.min(), y_pred.max(), y_pred.dtype)\n",
    "        for _slice in range(len(image)):\n",
    "            x_test.append(image.detach().cpu().numpy()[_slice,...])\n",
    "            y_test.append(target.detach().cpu().numpy()[_slice,...])\n",
    "            pred_test.append(y_pred.detach().cpu().numpy()[_slice,...])\n",
    "        idx += 1\n",
    "\n",
    "x_test = np.array(x_test)\n",
    "y_test = np.array(y_test)\n",
    "pred_test = np.array(pred_test)\n",
    "\n",
    "print('\\n')\n",
    "print(x_test.shape, x_test.min(), x_test.max(), x_test.dtype)\n",
    "print(y_test.shape, y_test.min(), y_test.max(), y_test.dtype)\n",
    "print(pred_test.shape, pred_test.min(), pred_test.max(), pred_test.dtype)"
   ]
  },
  {
   "cell_type": "code",
   "execution_count": null,
   "id": "c0afd2e7-63fc-4cf8-9f01-db56b39cf75b",
   "metadata": {},
   "outputs": [],
   "source": [
    "from sklearn import metrics\n",
    "\n",
    "fpr, tpr, thresholds = metrics.roc_curve(y_test[...,0], pred_test[...,0], pos_label=1)\n",
    "metrics.auc(fpr, tpr)"
   ]
  },
  {
   "cell_type": "code",
   "execution_count": null,
   "id": "ff0482e0-4061-4d12-99d7-ddeabfe78c99",
   "metadata": {},
   "outputs": [],
   "source": [
    "from sklearn.metrics import RocCurveDisplay\n",
    "\n",
    "display = RocCurveDisplay.from_predictions(\n",
    "    y_test[:, 0],\n",
    "    pred_test[:, 0],\n",
    "    color=\"darkorange\",\n",
    "    plot_chance_level=True,\n",
    ")\n",
    "_ = display.ax_.set(\n",
    "    xlabel=\"False Positive Rate\",\n",
    "    ylabel=\"True Positive Rate\",\n",
    "    title=\"ROC Curve\",\n",
    ")"
   ]
  },
  {
   "cell_type": "code",
   "execution_count": null,
   "id": "efeaa881-e923-4c0d-8c90-f95754c2ee19",
   "metadata": {},
   "outputs": [],
   "source": [
    "print(pred_test[...,0].shape, pred_test[...,0].min(), pred_test[...,0].max())"
   ]
  },
  {
   "cell_type": "code",
   "execution_count": null,
   "id": "d13de42a-ce3a-4cf2-8358-9876e7810310",
   "metadata": {},
   "outputs": [],
   "source": [
    "from sklearn.metrics import f1_score, auc\n",
    "\n",
    "pred_test[...,0][pred_test[...,0]>.5] = 1\n",
    "pred_test[...,0][pred_test[...,0]<=.5] = 0\n",
    "\n",
    "f1_score(y_test[...,0], pred_test[...,0], average='micro')"
   ]
  },
  {
   "cell_type": "code",
   "execution_count": null,
   "id": "a586b6bd-409a-4b44-9d57-659baf453ddd",
   "metadata": {},
   "outputs": [],
   "source": [
    "plt.hist(y_test[...,0], 15, alpha=0.75, edgecolor='k')\n",
    "plt.hist(pred_test[...,0], 15, alpha=0.75, edgecolor='k')\n",
    "plt.legend(['GT', 'Pred'])\n",
    "plt.show()"
   ]
  },
  {
   "cell_type": "code",
   "execution_count": null,
   "id": "03a269bc-d64d-4ef9-831f-711d355e1c8f",
   "metadata": {},
   "outputs": [],
   "source": []
  },
  {
   "cell_type": "code",
   "execution_count": null,
   "id": "bd451da3-31bc-4cce-a00f-cdf64371e203",
   "metadata": {},
   "outputs": [],
   "source": []
  },
  {
   "cell_type": "code",
   "execution_count": null,
   "id": "eb5a341f-0756-47dd-b4bd-c1024c56a92f",
   "metadata": {},
   "outputs": [],
   "source": []
  },
  {
   "cell_type": "code",
   "execution_count": null,
   "id": "054583ab-d33d-45ac-8132-db2accfbf08b",
   "metadata": {},
   "outputs": [],
   "source": []
  },
  {
   "cell_type": "code",
   "execution_count": null,
   "id": "af0a869a-a346-4d3b-9adf-1a370b2185ef",
   "metadata": {},
   "outputs": [],
   "source": []
  },
  {
   "cell_type": "code",
   "execution_count": null,
   "id": "f953a7af",
   "metadata": {},
   "outputs": [],
   "source": []
  }
 ],
 "metadata": {
  "kernelspec": {
   "display_name": "Python 3 (ipykernel)",
   "language": "python",
   "name": "python3"
  },
  "language_info": {
   "codemirror_mode": {
    "name": "ipython",
    "version": 3
   },
   "file_extension": ".py",
   "mimetype": "text/x-python",
   "name": "python",
   "nbconvert_exporter": "python",
   "pygments_lexer": "ipython3",
   "version": "3.9.20"
  }
 },
 "nbformat": 4,
 "nbformat_minor": 5
}
